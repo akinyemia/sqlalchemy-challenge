{
 "cells": [
  {
   "cell_type": "code",
   "execution_count": null,
   "metadata": {},
   "outputs": [],
   "source": []
  }
 ],
 "metadata": {
  "kernelspec": {
   "display_name": "Python 3",
   "language": "python",
   "name": "python3"
  },
  "language_info": {
   "name": "python",
   "version": "3.10.10"
  },
  "orig_nbformat": 4,
  "vscode": {
   "interpreter": {
    "hash": "b0ded2ea7ed6be04cd2a40a430847f1c017686fcc68aea24d3755698cc984e4e"
   }
  }
 },
 "nbformat": 4,
 "nbformat_minor": 2
}
